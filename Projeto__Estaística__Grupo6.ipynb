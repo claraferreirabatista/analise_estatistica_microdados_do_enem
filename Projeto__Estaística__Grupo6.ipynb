{
  "cells": [
    {
      "cell_type": "markdown",
      "metadata": {
        "id": "oxGURa6zGfuY"
      },
      "source": [
        "# Projeto Estatistica\n",
        "## Grupo 6 - Turma 1007 - ADA Santader Coders 2023 Data Science\n",
        "---\n",
        "## Membros\n",
        "### Clara Ferreira Batista\n",
        "### Laura Muglia\n",
        "### Luana Ferraz\n",
        "### Rafael Couto de Oliveira\n",
        "---\n",
        "\n",
        "Nosso repositório :\n",
        "https://github.com/claraferreirabatista/analise_estatistica_microdados_do_enem"
      ]
    },
    {
      "cell_type": "markdown",
      "metadata": {
        "id": "S7QHnk4ABllP"
      },
      "source": [
        "---\n",
        "## *Introdução*\n",
        "\n",
        "* Motivo do trabalho: Analise dos Microdados do Enem;\n",
        "* Contexto da analise do trabalho: Analise do impacto da COVID-19 nos números da região Centro-oeste referente aos anos de 2018 a 2022;\n",
        "* Onde encontrar os dados : https://www.gov.br/inep/pt-br/acesso-a-informacao/dados-abertos/microdados/enem."
      ]
    },
    {
      "cell_type": "markdown",
      "metadata": {
        "id": "-A0WVtcRBq8P"
      },
      "source": [
        "### Divisão de tarefas\n",
        "\n",
        "* Escolha do tópico: Laura Muglia\n",
        "* Carregamento, limpeza e tratativa dos dados: Rafael Couto\n",
        "* Elaboração das perguntas: Luana Ferraz e Laura Muglia\n",
        "* Análise exploratória: Rafael Couto\n",
        "* Elaboração de gráficos: Luana Ferraz\n",
        "* BugFix, reprodutibilidade e repositório: Clara Ferreira Batista\n",
        "* Conclusões: Todos\n",
        "---\n"
      ]
    },
    {
      "cell_type": "markdown",
      "metadata": {
        "id": "2qoxdSJeByTm"
      },
      "source": [
        "# Carregamento dos dados e bibliotecas\n",
        "Importando as bibliotecas necessárias e carregando os dados que já foram tratados previamente.\n",
        "Nosso conjunto de dados caracteriza uma população pois contem todos os participantes do ENEM da região CO."
      ]
    },
    {
      "cell_type": "code",
      "execution_count": null,
      "metadata": {
        "colab": {
          "base_uri": "https://localhost:8080/"
        },
        "id": "6BcX-T2WoMEL",
        "outputId": "772f176f-931e-4b78-9188-a7a85e00cbf7"
      },
      "outputs": [
        {
          "output_type": "stream",
          "name": "stdout",
          "text": [
            "Mounted at /content/drive\n"
          ]
        }
      ],
      "source": [
        "#Montar o drive para acessar os arquivos.\n",
        "from google.colab import drive\n",
        "drive.mount('/content/drive')"
      ]
    },
    {
      "cell_type": "code",
      "execution_count": null,
      "metadata": {
        "colab": {
          "base_uri": "https://localhost:8080/"
        },
        "id": "s_JO8kiPF3nH",
        "outputId": "8b5bbbf9-a013-4322-9cca-007daa5236ae"
      },
      "outputs": [
        {
          "output_type": "stream",
          "name": "stdout",
          "text": [
            "Collecting gitpython\n",
            "  Downloading GitPython-3.1.37-py3-none-any.whl (190 kB)\n",
            "\u001b[?25l     \u001b[90m━━━━━━━━━━━━━━━━━━━━━━━━━━━━━━━━━━━━━━━━\u001b[0m \u001b[32m0.0/190.0 kB\u001b[0m \u001b[31m?\u001b[0m eta \u001b[36m-:--:--\u001b[0m\r\u001b[2K     \u001b[91m━━━━━━━━━━━━━━━━━━━━━━━━━━━━━━━━━━━━━\u001b[0m\u001b[91m╸\u001b[0m\u001b[90m━\u001b[0m \u001b[32m184.3/190.0 kB\u001b[0m \u001b[31m5.3 MB/s\u001b[0m eta \u001b[36m0:00:01\u001b[0m\r\u001b[2K     \u001b[90m━━━━━━━━━━━━━━━━━━━━━━━━━━━━━━━━━━━━━━━\u001b[0m \u001b[32m190.0/190.0 kB\u001b[0m \u001b[31m4.0 MB/s\u001b[0m eta \u001b[36m0:00:00\u001b[0m\n",
            "\u001b[?25hCollecting gitdb<5,>=4.0.1 (from gitpython)\n",
            "  Downloading gitdb-4.0.10-py3-none-any.whl (62 kB)\n",
            "\u001b[?25l     \u001b[90m━━━━━━━━━━━━━━━━━━━━━━━━━━━━━━━━━━━━━━━━\u001b[0m \u001b[32m0.0/62.7 kB\u001b[0m \u001b[31m?\u001b[0m eta \u001b[36m-:--:--\u001b[0m\r\u001b[2K     \u001b[90m━━━━━━━━━━━━━━━━━━━━━━━━━━━━━━━━━━━━━━━━\u001b[0m \u001b[32m62.7/62.7 kB\u001b[0m \u001b[31m4.9 MB/s\u001b[0m eta \u001b[36m0:00:00\u001b[0m\n",
            "\u001b[?25hCollecting smmap<6,>=3.0.1 (from gitdb<5,>=4.0.1->gitpython)\n",
            "  Downloading smmap-5.0.1-py3-none-any.whl (24 kB)\n",
            "Installing collected packages: smmap, gitdb, gitpython\n",
            "Successfully installed gitdb-4.0.10 gitpython-3.1.37 smmap-5.0.1\n"
          ]
        }
      ],
      "source": [
        "!pip install gitpython"
      ]
    },
    {
      "cell_type": "code",
      "execution_count": null,
      "metadata": {
        "colab": {
          "base_uri": "https://localhost:8080/",
          "height": 391
        },
        "id": "D1Qd43xVGE3C",
        "outputId": "b97324fb-8643-460e-994a-25290224fd39"
      },
      "outputs": [
        {
          "output_type": "error",
          "ename": "FileNotFoundError",
          "evalue": "ignored",
          "traceback": [
            "\u001b[0;31m---------------------------------------------------------------------------\u001b[0m",
            "\u001b[0;31mFileNotFoundError\u001b[0m                         Traceback (most recent call last)",
            "\u001b[0;32m<ipython-input-6-31438b89213f>\u001b[0m in \u001b[0;36m<cell line: 8>\u001b[0;34m()\u001b[0m\n\u001b[1;32m      6\u001b[0m \u001b[0;34m\u001b[0m\u001b[0m\n\u001b[1;32m      7\u001b[0m \u001b[0;31m# Exclua o diretório existente (escolhemos isso se precisar de reteste)\u001b[0m\u001b[0;34m\u001b[0m\u001b[0;34m\u001b[0m\u001b[0m\n\u001b[0;32m----> 8\u001b[0;31m \u001b[0mshutil\u001b[0m\u001b[0;34m.\u001b[0m\u001b[0mrmtree\u001b[0m\u001b[0;34m(\u001b[0m\u001b[0mexisting_dir\u001b[0m\u001b[0;34m)\u001b[0m\u001b[0;34m\u001b[0m\u001b[0;34m\u001b[0m\u001b[0m\n\u001b[0m\u001b[1;32m      9\u001b[0m \u001b[0;34m\u001b[0m\u001b[0m\n\u001b[1;32m     10\u001b[0m \u001b[0;31m# Clone o repositório novamente\u001b[0m\u001b[0;34m\u001b[0m\u001b[0;34m\u001b[0m\u001b[0m\n",
            "\u001b[0;32m/usr/lib/python3.10/shutil.py\u001b[0m in \u001b[0;36mrmtree\u001b[0;34m(path, ignore_errors, onerror)\u001b[0m\n\u001b[1;32m    713\u001b[0m             \u001b[0morig_st\u001b[0m \u001b[0;34m=\u001b[0m \u001b[0mos\u001b[0m\u001b[0;34m.\u001b[0m\u001b[0mlstat\u001b[0m\u001b[0;34m(\u001b[0m\u001b[0mpath\u001b[0m\u001b[0;34m)\u001b[0m\u001b[0;34m\u001b[0m\u001b[0;34m\u001b[0m\u001b[0m\n\u001b[1;32m    714\u001b[0m         \u001b[0;32mexcept\u001b[0m \u001b[0mException\u001b[0m\u001b[0;34m:\u001b[0m\u001b[0;34m\u001b[0m\u001b[0;34m\u001b[0m\u001b[0m\n\u001b[0;32m--> 715\u001b[0;31m             \u001b[0monerror\u001b[0m\u001b[0;34m(\u001b[0m\u001b[0mos\u001b[0m\u001b[0;34m.\u001b[0m\u001b[0mlstat\u001b[0m\u001b[0;34m,\u001b[0m \u001b[0mpath\u001b[0m\u001b[0;34m,\u001b[0m \u001b[0msys\u001b[0m\u001b[0;34m.\u001b[0m\u001b[0mexc_info\u001b[0m\u001b[0;34m(\u001b[0m\u001b[0;34m)\u001b[0m\u001b[0;34m)\u001b[0m\u001b[0;34m\u001b[0m\u001b[0;34m\u001b[0m\u001b[0m\n\u001b[0m\u001b[1;32m    716\u001b[0m             \u001b[0;32mreturn\u001b[0m\u001b[0;34m\u001b[0m\u001b[0;34m\u001b[0m\u001b[0m\n\u001b[1;32m    717\u001b[0m         \u001b[0;32mtry\u001b[0m\u001b[0;34m:\u001b[0m\u001b[0;34m\u001b[0m\u001b[0;34m\u001b[0m\u001b[0m\n",
            "\u001b[0;32m/usr/lib/python3.10/shutil.py\u001b[0m in \u001b[0;36mrmtree\u001b[0;34m(path, ignore_errors, onerror)\u001b[0m\n\u001b[1;32m    711\u001b[0m         \u001b[0;31m# lstat()/open()/fstat() trick.\u001b[0m\u001b[0;34m\u001b[0m\u001b[0;34m\u001b[0m\u001b[0m\n\u001b[1;32m    712\u001b[0m         \u001b[0;32mtry\u001b[0m\u001b[0;34m:\u001b[0m\u001b[0;34m\u001b[0m\u001b[0;34m\u001b[0m\u001b[0m\n\u001b[0;32m--> 713\u001b[0;31m             \u001b[0morig_st\u001b[0m \u001b[0;34m=\u001b[0m \u001b[0mos\u001b[0m\u001b[0;34m.\u001b[0m\u001b[0mlstat\u001b[0m\u001b[0;34m(\u001b[0m\u001b[0mpath\u001b[0m\u001b[0;34m)\u001b[0m\u001b[0;34m\u001b[0m\u001b[0;34m\u001b[0m\u001b[0m\n\u001b[0m\u001b[1;32m    714\u001b[0m         \u001b[0;32mexcept\u001b[0m \u001b[0mException\u001b[0m\u001b[0;34m:\u001b[0m\u001b[0;34m\u001b[0m\u001b[0;34m\u001b[0m\u001b[0m\n\u001b[1;32m    715\u001b[0m             \u001b[0monerror\u001b[0m\u001b[0;34m(\u001b[0m\u001b[0mos\u001b[0m\u001b[0;34m.\u001b[0m\u001b[0mlstat\u001b[0m\u001b[0;34m,\u001b[0m \u001b[0mpath\u001b[0m\u001b[0;34m,\u001b[0m \u001b[0msys\u001b[0m\u001b[0;34m.\u001b[0m\u001b[0mexc_info\u001b[0m\u001b[0;34m(\u001b[0m\u001b[0;34m)\u001b[0m\u001b[0;34m)\u001b[0m\u001b[0;34m\u001b[0m\u001b[0;34m\u001b[0m\u001b[0m\n",
            "\u001b[0;31mFileNotFoundError\u001b[0m: [Errno 2] No such file or directory: '/content/drive/MyDrive/analise_dos_microdados_do_enem'"
          ]
        }
      ],
      "source": [
        "import git\n",
        "import shutil\n",
        "\n",
        "# Defina o caminho do diretório existente\n",
        "existing_dir = \"/content/drive/MyDrive/analise_dos_microdados_do_enem\"\n",
        "\n",
        "# Exclua o diretório existente (escolhemos isso se precisar de reteste)\n",
        "shutil.rmtree(existing_dir)\n",
        "\n",
        "# Clone o repositório novamente\n",
        "repo_url = \"https://github.com/claraferreirabatista/analise_dos_microdados_do_enem.git\"\n",
        "repo_dir = \"/content/drive/MyDrive/analise_dos_microdados_do_enem\"\n",
        "git.Repo.clone_from(repo_url, repo_dir)"
      ]
    },
    {
      "cell_type": "code",
      "execution_count": null,
      "metadata": {
        "id": "6ZUwTXxMBOuf",
        "colab": {
          "base_uri": "https://localhost:8080/",
          "height": 391
        },
        "outputId": "239ab342-7a1b-4c67-a7e5-943790a3b18e"
      },
      "outputs": [
        {
          "output_type": "error",
          "ename": "FileNotFoundError",
          "evalue": "ignored",
          "traceback": [
            "\u001b[0;31m---------------------------------------------------------------------------\u001b[0m",
            "\u001b[0;31mFileNotFoundError\u001b[0m                         Traceback (most recent call last)",
            "\u001b[0;32m<ipython-input-7-3055e975a794>\u001b[0m in \u001b[0;36m<cell line: 13>\u001b[0;34m()\u001b[0m\n\u001b[1;32m     11\u001b[0m \u001b[0;34m\u001b[0m\u001b[0m\n\u001b[1;32m     12\u001b[0m \u001b[0;31m#Carregando direto os Dados Tratados:\u001b[0m\u001b[0;34m\u001b[0m\u001b[0;34m\u001b[0m\u001b[0m\n\u001b[0;32m---> 13\u001b[0;31m \u001b[0mdados_tratados\u001b[0m \u001b[0;34m=\u001b[0m \u001b[0mpd\u001b[0m\u001b[0;34m.\u001b[0m\u001b[0mread_parquet\u001b[0m\u001b[0;34m(\u001b[0m\u001b[0;34m'/content/drive/MyDrive/analise_dos_microdados_do_enem/ENEM_CO_TRATADO.parquet'\u001b[0m\u001b[0;34m)\u001b[0m\u001b[0;34m\u001b[0m\u001b[0;34m\u001b[0m\u001b[0m\n\u001b[0m",
            "\u001b[0;32m/usr/local/lib/python3.10/dist-packages/pandas/io/parquet.py\u001b[0m in \u001b[0;36mread_parquet\u001b[0;34m(path, engine, columns, storage_options, use_nullable_dtypes, **kwargs)\u001b[0m\n\u001b[1;32m    501\u001b[0m     \u001b[0mimpl\u001b[0m \u001b[0;34m=\u001b[0m \u001b[0mget_engine\u001b[0m\u001b[0;34m(\u001b[0m\u001b[0mengine\u001b[0m\u001b[0;34m)\u001b[0m\u001b[0;34m\u001b[0m\u001b[0;34m\u001b[0m\u001b[0m\n\u001b[1;32m    502\u001b[0m \u001b[0;34m\u001b[0m\u001b[0m\n\u001b[0;32m--> 503\u001b[0;31m     return impl.read(\n\u001b[0m\u001b[1;32m    504\u001b[0m         \u001b[0mpath\u001b[0m\u001b[0;34m,\u001b[0m\u001b[0;34m\u001b[0m\u001b[0;34m\u001b[0m\u001b[0m\n\u001b[1;32m    505\u001b[0m         \u001b[0mcolumns\u001b[0m\u001b[0;34m=\u001b[0m\u001b[0mcolumns\u001b[0m\u001b[0;34m,\u001b[0m\u001b[0;34m\u001b[0m\u001b[0;34m\u001b[0m\u001b[0m\n",
            "\u001b[0;32m/usr/local/lib/python3.10/dist-packages/pandas/io/parquet.py\u001b[0m in \u001b[0;36mread\u001b[0;34m(self, path, columns, use_nullable_dtypes, storage_options, **kwargs)\u001b[0m\n\u001b[1;32m    242\u001b[0m             \u001b[0mto_pandas_kwargs\u001b[0m\u001b[0;34m[\u001b[0m\u001b[0;34m\"split_blocks\"\u001b[0m\u001b[0;34m]\u001b[0m \u001b[0;34m=\u001b[0m \u001b[0;32mTrue\u001b[0m  \u001b[0;31m# type: ignore[assignment]\u001b[0m\u001b[0;34m\u001b[0m\u001b[0;34m\u001b[0m\u001b[0m\n\u001b[1;32m    243\u001b[0m \u001b[0;34m\u001b[0m\u001b[0m\n\u001b[0;32m--> 244\u001b[0;31m         path_or_handle, handles, kwargs[\"filesystem\"] = _get_path_or_handle(\n\u001b[0m\u001b[1;32m    245\u001b[0m             \u001b[0mpath\u001b[0m\u001b[0;34m,\u001b[0m\u001b[0;34m\u001b[0m\u001b[0;34m\u001b[0m\u001b[0m\n\u001b[1;32m    246\u001b[0m             \u001b[0mkwargs\u001b[0m\u001b[0;34m.\u001b[0m\u001b[0mpop\u001b[0m\u001b[0;34m(\u001b[0m\u001b[0;34m\"filesystem\"\u001b[0m\u001b[0;34m,\u001b[0m \u001b[0;32mNone\u001b[0m\u001b[0;34m)\u001b[0m\u001b[0;34m,\u001b[0m\u001b[0;34m\u001b[0m\u001b[0;34m\u001b[0m\u001b[0m\n",
            "\u001b[0;32m/usr/local/lib/python3.10/dist-packages/pandas/io/parquet.py\u001b[0m in \u001b[0;36m_get_path_or_handle\u001b[0;34m(path, fs, storage_options, mode, is_dir)\u001b[0m\n\u001b[1;32m    100\u001b[0m         \u001b[0;31m# fsspec resources can also point to directories\u001b[0m\u001b[0;34m\u001b[0m\u001b[0;34m\u001b[0m\u001b[0m\n\u001b[1;32m    101\u001b[0m         \u001b[0;31m# this branch is used for example when reading from non-fsspec URLs\u001b[0m\u001b[0;34m\u001b[0m\u001b[0;34m\u001b[0m\u001b[0m\n\u001b[0;32m--> 102\u001b[0;31m         handles = get_handle(\n\u001b[0m\u001b[1;32m    103\u001b[0m             \u001b[0mpath_or_handle\u001b[0m\u001b[0;34m,\u001b[0m \u001b[0mmode\u001b[0m\u001b[0;34m,\u001b[0m \u001b[0mis_text\u001b[0m\u001b[0;34m=\u001b[0m\u001b[0;32mFalse\u001b[0m\u001b[0;34m,\u001b[0m \u001b[0mstorage_options\u001b[0m\u001b[0;34m=\u001b[0m\u001b[0mstorage_options\u001b[0m\u001b[0;34m\u001b[0m\u001b[0;34m\u001b[0m\u001b[0m\n\u001b[1;32m    104\u001b[0m         )\n",
            "\u001b[0;32m/usr/local/lib/python3.10/dist-packages/pandas/io/common.py\u001b[0m in \u001b[0;36mget_handle\u001b[0;34m(path_or_buf, mode, encoding, compression, memory_map, is_text, errors, storage_options)\u001b[0m\n\u001b[1;32m    863\u001b[0m         \u001b[0;32melse\u001b[0m\u001b[0;34m:\u001b[0m\u001b[0;34m\u001b[0m\u001b[0;34m\u001b[0m\u001b[0m\n\u001b[1;32m    864\u001b[0m             \u001b[0;31m# Binary mode\u001b[0m\u001b[0;34m\u001b[0m\u001b[0;34m\u001b[0m\u001b[0m\n\u001b[0;32m--> 865\u001b[0;31m             \u001b[0mhandle\u001b[0m \u001b[0;34m=\u001b[0m \u001b[0mopen\u001b[0m\u001b[0;34m(\u001b[0m\u001b[0mhandle\u001b[0m\u001b[0;34m,\u001b[0m \u001b[0mioargs\u001b[0m\u001b[0;34m.\u001b[0m\u001b[0mmode\u001b[0m\u001b[0;34m)\u001b[0m\u001b[0;34m\u001b[0m\u001b[0;34m\u001b[0m\u001b[0m\n\u001b[0m\u001b[1;32m    866\u001b[0m         \u001b[0mhandles\u001b[0m\u001b[0;34m.\u001b[0m\u001b[0mappend\u001b[0m\u001b[0;34m(\u001b[0m\u001b[0mhandle\u001b[0m\u001b[0;34m)\u001b[0m\u001b[0;34m\u001b[0m\u001b[0;34m\u001b[0m\u001b[0m\n\u001b[1;32m    867\u001b[0m \u001b[0;34m\u001b[0m\u001b[0m\n",
            "\u001b[0;31mFileNotFoundError\u001b[0m: [Errno 2] No such file or directory: '/content/drive/MyDrive/analise_dos_microdados_do_enem/ENEM_CO_TRATADO.parquet'"
          ]
        }
      ],
      "source": [
        "# Importar bibliotecas\n",
        "import pandas as pd\n",
        "import matplotlib.pyplot as plt\n",
        "import re\n",
        "import numpy as np\n",
        "import scipy.stats as stats\n",
        "\n",
        "import seaborn as sns\n",
        "import plotly.graph_objects as go\n",
        "import plotly.express as px\n",
        "\n",
        "#Carregando direto os Dados Tratados:\n",
        "dados_tratados = pd.read_parquet('/content/drive/MyDrive/analise_dos_microdados_do_enem/ENEM_CO_TRATADO.parquet')"
      ]
    },
    {
      "cell_type": "markdown",
      "metadata": {
        "id": "9zMDoNV1DK0f"
      },
      "source": [
        "Após limpeza e tratamento dos dados, a base tem 1760255 elementos e 25 colunas."
      ]
    },
    {
      "cell_type": "markdown",
      "metadata": {
        "id": "5A_4cA0LJ-Xd"
      },
      "source": [
        "## Tabelas \"De-para\"\n",
        "\n",
        "Elaboração das tabelas \"de-para\" para valores que estão como \"flag\" ou valores numéricos, porém representam variaveis categóricas. Usado para variáveis de alta variabilidade."
      ]
    },
    {
      "cell_type": "code",
      "execution_count": null,
      "metadata": {
        "id": "wbzVD9Y7JkGL"
      },
      "outputs": [],
      "source": [
        "#Tabela de/para: Faixa etária\n",
        "\n",
        "# Dados para a coluna #TP_FAIXA_ETARIA\n",
        "dp_idades = {\n",
        "    'TP_FAIXA_ETARIA': [1, 2, 3, 4, 5, 6, 7, 8, 9, 10,\n",
        "                         11, 12, 13, 14, 15, 16, 17, 18, 19, 20],\n",
        "    'Faixa Etária': ['Menor de 17 anos', '17 anos', '18 anos', '19 anos', '20 anos',\n",
        "                     '21 anos', '22 anos', '23 anos', '24 anos', '25 anos',\n",
        "                     'Entre 26 e 30 anos', 'Entre 31 e 35 anos', 'Entre 36 e 40 anos', 'Entre 41 e 45 anos',\n",
        "                     'Entre 46 e 50 anos', 'Entre 51 e 55 anos', 'Entre 56 e 60 anos',\n",
        "                     'Entre 61 e 65 anos', 'Entre 66 e 70 anos', 'Maior de 70 anos'],\n",
        "    'Média idade': [16, 17, 18, 19, 20, 21, 22, 23, 24, 25, 28, 33, 38, 43, 48, 53, 58, 63, 68, 72]\n",
        "}\n",
        "\n",
        "dp_idades = pd.DataFrame(dp_idades).set_index('TP_FAIXA_ETARIA')"
      ]
    },
    {
      "cell_type": "code",
      "execution_count": null,
      "metadata": {
        "id": "8HQh5M7DJs6z"
      },
      "outputs": [],
      "source": [
        "#Tabela de/para: Cor/Raça\n",
        "\n",
        "#Dados para a coluna #TP_COR_RACA\n",
        "dp_raca = {\n",
        "    'TP_COR_RACA': [0, 1, 2, 3, 4, 5, 6],\n",
        "    'Cor/Raça': ['Não declarado', 'Branca', 'Preta', 'Parda', 'Amarela', 'Indígena', 'Não dispõe da informação']\n",
        "}\n",
        "dp_raca = pd.DataFrame(dp_raca).set_index('TP_COR_RACA')"
      ]
    },
    {
      "cell_type": "code",
      "execution_count": null,
      "metadata": {
        "id": "f5JpYpc0Jvkb"
      },
      "outputs": [],
      "source": [
        "#Tabela de/para: Nacionalidade\n",
        "\n",
        "#Dados para a coluna TP_NACIONALIDADE\n",
        "dp_nacionalidade = {\n",
        "    'TP_NACIONALIDADE': [0, 1, 2, 3, 4],\n",
        "    'Nacionalidade_info': ['Não informado', 'Brasileiro(a)', 'Brasileiro(a) Naturalizado(a)',\n",
        "                      'Estrangeiro(a)', 'Brasileiro(a) Nato(a), nascido(a) no exterior']\n",
        "}\n",
        "\n",
        "dp_nacionalidade = pd.DataFrame(dp_nacionalidade).set_index('TP_NACIONALIDADE')"
      ]
    },
    {
      "cell_type": "code",
      "execution_count": null,
      "metadata": {
        "id": "7xqMRG_XJyNU"
      },
      "outputs": [],
      "source": [
        "#Tabela de/para: Situação conclusão\n",
        "\n",
        "#Dados para a coluna TP_ST_CONCLUSAO\n",
        "dp_conclusao = {\n",
        "    'TP_ST_CONCLUSAO': [1, 2, 3, 4],\n",
        "    'Situação do Ensino Médio': ['Já concluí o Ensino Médio',\n",
        "                                 'Estou cursando e concluirei o Ensino Médio no Ano da Prova',\n",
        "                                 'Estou cursando e concluirei o Ensino Médio após o Ano da Prova',\n",
        "                                 'Não concluí e não estou cursando o Ensino Médio']\n",
        "}\n",
        "\n",
        "dp_conclusao = pd.DataFrame(dp_conclusao).set_index('TP_ST_CONCLUSAO')"
      ]
    },
    {
      "cell_type": "code",
      "execution_count": null,
      "metadata": {
        "id": "vX1j8TElJ2vN"
      },
      "outputs": [],
      "source": [
        "#Tabela de/para: Ano Conclusão\n",
        "\n",
        "# Dados para a coluna #TP_ANO_CONCLUIU\n",
        "dp_ano_conclusao = {\n",
        "    'TP_ANO_CONCLUIU': [0, 1, 2, 3, 4, 5, 6, 7, 8, 9, 10,\n",
        "                         11, 12, 13, 14, 15, 16],\n",
        "    'Ano Concluiu': ['Não informado', '2021', '2020', '2019', '2018', '2017', '2016',\n",
        "                     '2015', '2014', '2013', '2012', '2011', '2010', '2009', '2008',\n",
        "                     '2007', 'Antes de 2007']\n",
        "}\n",
        "\n",
        "dp_ano_conclusao = pd.DataFrame(dp_ano_conclusao).set_index('TP_ANO_CONCLUIU')"
      ]
    },
    {
      "cell_type": "code",
      "execution_count": null,
      "metadata": {
        "id": "Ln0H-XG3J5dN"
      },
      "outputs": [],
      "source": [
        "#Tabela de/para: Status Redação\n",
        "\n",
        "# Dados para a coluna TP_STATUS_REDACAO\n",
        "\n",
        "dp_redacao = {\n",
        "    'TP_STATUS_REDACAO': [1, 2, 3, 4, 6, 7, 8, 9],\n",
        "    'Status Redacao': ['Sem problemas', 'Anulada', 'Cópia Texto Motivador', 'Em Branco',\n",
        "                       'Fuga ao tema', 'Não atendimento ao tipo textual', 'Texto insuficiente', 'Parte desconectada']\n",
        "}\n",
        "\n",
        "dp_redacao = pd.DataFrame(dp_redacao).set_index('TP_STATUS_REDACAO')"
      ]
    },
    {
      "cell_type": "markdown",
      "metadata": {
        "id": "CiFCict1yVcY"
      },
      "source": [
        "---\n",
        "# 1. Análise Exploratória das variáveis\n",
        "Visualizações de algumas variáveis para possíveis insights.\n"
      ]
    },
    {
      "cell_type": "code",
      "execution_count": null,
      "metadata": {
        "id": "uhJjR_0GgHDf"
      },
      "outputs": [],
      "source": [
        "#Informações estatisticas\n",
        "\n",
        "#Forçar o pandas a mostras as informações como float, 2 casas decimais\n",
        "pd.set_option('display.float_format', lambda x: '%.2f' % x)\n",
        "\n",
        "# MOSTRAR APENAS DADOS QUANTITATIVOS E fORMATAR\n",
        "dados_numericos =  dados_tratados[['NU_NOTA_REDACAO', 'NU_NOTA_GERAL','NU_NOTA_CN','NU_NOTA_CH','NU_NOTA_LC','NU_NOTA_MT']]\n",
        "display(dados_numericos.describe())"
      ]
    },
    {
      "cell_type": "markdown",
      "metadata": {
        "id": "QeEjZ9ce5Oeh"
      },
      "source": [
        "Como a população éconsiderada grande (1760255 entradas) vamos calcular uma amostra da mesma. Para isso vamos consideram margem de erro de 2% e nível de confiança de 99% (Z = 2,575). Como não conhecemos a distribuição da população, vamos utilizar um valor conservados de 0.5.\n",
        "\n",
        "$$\n",
        "n = \\frac{{Z^2 \\cdot P \\cdot (1 - P)}}{{E^2}}\n",
        "$$"
      ]
    },
    {
      "cell_type": "code",
      "execution_count": null,
      "metadata": {
        "id": "1raDVyqd5Qvh"
      },
      "outputs": [],
      "source": [
        "#Calculo da quantidade amostra\n",
        "z=2.575  #99%\n",
        "p=0.5    #valor conservador\n",
        "e=0.02   #erro de 2%\n",
        "\n",
        "tamanho_amostra = (((z**2)*p*(1-p))/(e**2))//1 +1\n",
        "print(tamanho_amostra)"
      ]
    },
    {
      "cell_type": "markdown",
      "metadata": {
        "id": "SAqUrsZ45TJB"
      },
      "source": [
        "Assim, definimos que nossa amostra deve ser composta de pelo menos 4145 elementos."
      ]
    },
    {
      "cell_type": "code",
      "execution_count": null,
      "metadata": {
        "id": "EX9MCrO75Uuh"
      },
      "outputs": [],
      "source": [
        "#Definindo a amostra (utilizando random state como 123 para garantir a reprodutibilidade)\n",
        "\n",
        "dados_amostra = dados_tratados.sample(n=int(tamanho_amostra), random_state=123)"
      ]
    },
    {
      "cell_type": "markdown",
      "metadata": {
        "id": "Jtk2t_g5ysAQ"
      },
      "source": [
        "## 2.1 Análise dos inscritos\n",
        "Visualização da relação de inscritos e presentes ao longo dos anos."
      ]
    },
    {
      "cell_type": "markdown",
      "metadata": {
        "id": "PfeQaAMErNEr"
      },
      "source": [
        "#### 2.1.1 Qual a faixa etária dos inscritos no ENEM entre 2018 e 2022?"
      ]
    },
    {
      "cell_type": "markdown",
      "metadata": {
        "id": "q_VEZrCpOmr_"
      },
      "source": [
        "O código analisa dados de faixa etária de alunos. Ele cria um DataFrame com contagem de alunos por faixa etária. Em seguida, combina esse DataFrame com um de-para das descrições das faixas etárias."
      ]
    },
    {
      "cell_type": "code",
      "execution_count": null,
      "metadata": {
        "id": "KIKjQY9My3np"
      },
      "outputs": [],
      "source": [
        "#Plotar quantidades x faixas etarias dos Inscritos\n",
        "\n",
        "Faixa_Etaria = pd.DataFrame(dados_tratados['TP_FAIXA_ETARIA'].value_counts())\n",
        "faixa = pd.concat([Faixa_Etaria.rename(columns = {'TP_FAIXA_ETARIA':'Inscritos'}),dp_idades], axis = 1 )\n",
        "faixa.sort_values(by='Inscritos' ).plot.barh(x = 'Faixa Etária', y = 'Inscritos')\n",
        "\n",
        "#printando\n",
        "plt.title('Quantidade de alunos por faixa etária')\n",
        "plt.xlabel('Quantidade')\n",
        "plt.tight_layout()\n",
        "plt.show()"
      ]
    },
    {
      "cell_type": "markdown",
      "metadata": {
        "id": "MggsYxfj5dhL"
      },
      "source": [
        "Pelo gráfico acima conseguimos ver que a maior concentração dos participantes está em idade de terceiro ano do ensino médio e cursinho (de 17 a 19 anos)."
      ]
    },
    {
      "cell_type": "code",
      "execution_count": null,
      "metadata": {
        "id": "mJCnjgflgmg6"
      },
      "outputs": [],
      "source": [
        "#Hipotese: diferença entre duas faixas etarias é estatisticamente significativa?\n",
        "#aplciar teste de hipotese das diferenças"
      ]
    },
    {
      "cell_type": "markdown",
      "metadata": {
        "id": "oQSNzcob12i6"
      },
      "source": [
        "#### 2.1.2 Como a faixa etária dos inscritos mudou ao longo da pandemia?"
      ]
    },
    {
      "cell_type": "markdown",
      "metadata": {
        "id": "Z7MN2K6DPhtt"
      },
      "source": [
        "O código realiza uma análise da distribuição da quantidade de alunos por faixa etária ao longo dos anos. Inicialmente, ele mescla dados da faixa etária dos alunos com informações relacionadas a idades, usando um método de junção (merge) por correspondência na coluna 'TP_FAIXA_ETARIA'. Em seguida, calcula as contagens dessa combinação de faixa etária e ano. Esses valores são organizados em um heatmap (mapa de calor) utilizando a biblioteca Seaborn, onde as cores representam a quantidade de alunos. O"
      ]
    },
    {
      "cell_type": "code",
      "execution_count": null,
      "metadata": {
        "id": "ZAy3foaHzIFi"
      },
      "outputs": [],
      "source": [
        "#Plotar quantidades x faixas etarias por ano\n",
        "\n",
        "Faixa_Etaria_Ano = dados_tratados.merge(dp_idades.reindex(), on = 'TP_FAIXA_ETARIA', how = 'left')\n",
        "Faixa_Etaria_Ano = Faixa_Etaria_Ano[['Faixa Etária', 'NU_ANO']].value_counts()\n",
        "Faixa_Etaria_Ano = Faixa_Etaria_Ano.unstack()\n",
        "cmap = sns.cm.rocket_r\n",
        "sns.heatmap(Faixa_Etaria_Ano, cmap = cmap)\n",
        "#Faixa_Etaria_Ano.sort_index().plot.barh( stacked = True)\n",
        "\n",
        "#printando\n",
        "plt.title('Heatmap da quantidade de alunos por faixa etária por ano')\n",
        "plt.xlabel('Ano')\n",
        "plt.tight_layout()\n",
        "plt.show()"
      ]
    },
    {
      "cell_type": "markdown",
      "metadata": {
        "id": "BN8AxJwV5e7N"
      },
      "source": [
        "O gráfico acima confirma que as faixas de idade de maior concentração de participantes sempre se manteve entre os participantes entre 17 e 19 anos ao longo dos anos de nossa análise. Aqui também conseguimos notar que a participação de pessoas acima de 20 anos diminuiu bastante entre 2020 e 2022, principalmente na faixa de 26 a 30 anos."
      ]
    },
    {
      "cell_type": "markdown",
      "metadata": {
        "id": "Ujfi2CVJrmWQ"
      },
      "source": [
        "#### 2.1.3 Qual o perfil escolar dos estudantes inscritos no ENEM nos últimos 5 anos?"
      ]
    },
    {
      "cell_type": "markdown",
      "metadata": {
        "id": "7xkM2rQzPFWi"
      },
      "source": [
        "O código analisa dados sobre o tipo de escola em diferentes anos. Ele realiza uma contagem da frequência de tipos de escola para cada ano e organiza esses dados em um gráfico simples de barras horizontais de barras duplas."
      ]
    },
    {
      "cell_type": "code",
      "execution_count": null,
      "metadata": {
        "id": "dAEKSmpuzlfA"
      },
      "outputs": [],
      "source": [
        "#plotar tipo de escola x anos (barras duplas)\n",
        "tipo_escola = dados_tratados[['NU_ANO', 'TP_ESCOLA']].value_counts()\n",
        "tipo_escola = tipo_escola.unstack()\n",
        "tipo_escola.plot.barh()\n",
        "\n",
        "#printando\n",
        "plt.title('Tipo de escola por ano')\n",
        "plt.xlabel('Quantidade')\n",
        "plt.ylabel('Ano')\n",
        "plt.tight_layout()\n",
        "plt.show()"
      ]
    },
    {
      "cell_type": "markdown",
      "metadata": {
        "id": "2OOeXSJ05hfx"
      },
      "source": [
        "Aqui conseguimos perceber que o volume de participantes de escolas particulares e públicas não mudou muito ao longo desses 5 anos. Já os participantes que não responderam a essa pergunta diminuiu bastante, principalmente entre 2020 e 2022."
      ]
    },
    {
      "cell_type": "markdown",
      "metadata": {
        "id": "qigjxpD4D9gd"
      },
      "source": [
        "#### 2.1.4 - Como a quantidade de ausentes mudou ao longo do tempo?"
      ]
    },
    {
      "cell_type": "markdown",
      "metadata": {
        "id": "0KVl2aqJSxkw"
      },
      "source": [
        "O código analisa dados de presença de alunos ao longo dos anos. Ele seleciona as colunas de \"ano\" e \"tipo de presença\" de um conjunto de dados tratados. Depois, filtra os registros em que a presença é \"falsa\" (ausente) e agrupa esses dados por ano, contando a quantidade de ausências em cada ano."
      ]
    },
    {
      "cell_type": "code",
      "execution_count": null,
      "metadata": {
        "id": "Gc6g8_e8D_PR"
      },
      "outputs": [],
      "source": [
        "ausentes = dados_tratados[['NU_ANO','TP_PRESENCA']]\n",
        "ausentes = ausentes[ausentes['TP_PRESENCA'] == False].groupby('NU_ANO').count()\n",
        "\n",
        "ausentes.plot.barh(legend=False)\n",
        "\n",
        "#printando\n",
        "plt.title('Quantidade de ausentes por ano')\n",
        "plt.xlabel('Quantidade')\n",
        "plt.ylabel('Ano')\n"
      ]
    },
    {
      "cell_type": "markdown",
      "metadata": {
        "id": "-5wGTxFn5kOi"
      },
      "source": [
        "Baseado no gráfico vemos que não existe uma tendencia clara de ausência mas que no ano de 2020 (primeiro ano da pandemia COVID-19) houve um aumento expressivo."
      ]
    },
    {
      "cell_type": "markdown",
      "metadata": {
        "id": "2o7xoeB6rB-W"
      },
      "source": [
        "#### 2.1.5 - Como a pandemia impactou na evasao à prova do enem e na quantidade de inscritos no ENEM?"
      ]
    },
    {
      "cell_type": "markdown",
      "metadata": {
        "id": "zsZx6G3QOO2D"
      },
      "source": [
        "\n",
        "O código analisa dados de participação de estudantes em anos diferentes. Dois DataFrames são criados: um com contagem de inscritos por ano e outro com contagem de presentes por ano. Esses DataFrames são combinados e um gráfico de barras é gerado para comparar inscritos e presentes ao longo dos anos."
      ]
    },
    {
      "cell_type": "code",
      "execution_count": null,
      "metadata": {
        "id": "nYUFOfONyri4"
      },
      "outputs": [],
      "source": [
        "#Plotar QUANTIDADE_INSCRITOS X ANO NU_ANO\n",
        "inscritos = pd.DataFrame(dados_tratados['NU_ANO'].value_counts())\n",
        "presente = pd.DataFrame(dados_tratados[dados_tratados['TP_PRESENCA'] == True]['NU_ANO'].value_counts())\n",
        "alunos = pd.concat([inscritos.rename(columns = {'NU_ANO':'Inscritos'}),presente.rename(columns = {'NU_ANO':'Presentes'})],axis = 1)\n",
        "alunos.sort_index().plot(kind='bar')\n",
        "#alunos.sort_index()\n",
        "\n",
        "#printando\n",
        "plt.title('Alunos Inscritos x Alunos Presentes')\n",
        "plt.xlabel('Ano')\n",
        "plt.ylabel('Quantidade')\n",
        "plt.xticks(rotation=0)\n",
        "plt.tight_layout()\n",
        "plt.show()\n",
        "\n"
      ]
    },
    {
      "cell_type": "markdown",
      "metadata": {
        "id": "d7JIN7l_5olR"
      },
      "source": [
        "Nesse gráfico acima conseguimos ver que o ano que estourou a pandemia (2020) tivemos o maior número de inscritos desde período da nossa amostra, porém também tivemos a menor conversão desses inscritos para presentes na prova, podendo isso ter sido motivado pela preocupação das pessoas em se deslocar até o local da prova pela pandemia em andamento entre outros motivos."
      ]
    },
    {
      "cell_type": "markdown",
      "metadata": {
        "id": "Djao8JXD0OPY"
      },
      "source": [
        "## 2.3 Língua"
      ]
    },
    {
      "cell_type": "markdown",
      "metadata": {
        "id": "B4aL0QiQv_JX"
      },
      "source": [
        "### 2.3.1 Qual foi a  preferência dos inscritos para a prova de lígua estrangeira nos últimos 5 anos?\n",
        "\n",
        "\n"
      ]
    },
    {
      "cell_type": "markdown",
      "metadata": {
        "id": "gYgkointPqad"
      },
      "source": [
        "O código examina dados sobre o tipo de língua escolhido pelos alunos em diferentes anos. Ele cria um DataFrame que conta a quantidade de escolhas de cada tipo de língua por ano. Os dados são reformulados para facilitar a visualização, gerando um gráfico de barras horizontais."
      ]
    },
    {
      "cell_type": "code",
      "execution_count": null,
      "metadata": {
        "id": "DXWu_XzbuWbc"
      },
      "outputs": [],
      "source": [
        "#plotar quantidades linguas x anos (barras duplas)\n",
        "tipo_lingua = dados_tratados[['NU_ANO', 'TP_LINGUA']].value_counts()\n",
        "tipo_lingua = tipo_lingua.unstack()\n",
        "tipo_lingua.plot.barh()\n",
        "\n",
        "#printando\n",
        "plt.title('Relação das linguas por ano')\n",
        "plt.xlabel('Quantidade')\n",
        "plt.ylabel('Ano')\n",
        "plt.tight_layout()\n",
        "plt.show()"
      ]
    },
    {
      "cell_type": "markdown",
      "metadata": {
        "id": "o6JBWYwV5rzF"
      },
      "source": [
        "Assim como observamos nos gráficos anteriores, tivemos uma redução no número de participantes do Enem nos últimos anos. Mas em relação à lingua que escolheram para fazer a prova de língua estrageira, tivemos uma queda mais significativa na escolha pela prova de espanhol do que de inglês de 2020 até 2022."
      ]
    },
    {
      "cell_type": "markdown",
      "metadata": {
        "id": "hBcgXhkZEDfj"
      },
      "source": [
        "### 2.3.2 Estados que fazem divisa com países que falam espanhol tiveram maior preferêcia pela linha espanhola?\n",
        "\n",
        "\n"
      ]
    },
    {
      "cell_type": "markdown",
      "metadata": {
        "id": "yUpFwe_4P034"
      },
      "source": [
        "\n",
        "O código compara a preferência de idioma (inglês ou espanhol) em provas por estado. Ele calcula a diferença percentual entre o número de provas realizadas em espanhol e inglês em cada estado. Em seguida, cria um gráfico de barras horizontais que exibe essas diferenças. Valores de diferença percentual são adicionados ao gráfico para cada estado. O gráfico ilustra as discrepâncias na escolha de idioma entre os estados nas provas."
      ]
    },
    {
      "cell_type": "markdown",
      "metadata": {
        "id": "fXeAIU-zPssJ"
      },
      "source": []
    },
    {
      "cell_type": "code",
      "execution_count": null,
      "metadata": {
        "id": "nWY3jLwLEFf5"
      },
      "outputs": [],
      "source": [
        "tipo_lingua = dados_tratados[['SG_UF_PROVA','TP_LINGUA' ]].value_counts()\n",
        "tipo_lingua = tipo_lingua.unstack().reset_index().set_index('SG_UF_PROVA')\n",
        "\n",
        "#Calcular a diferença percentual\n",
        "tipo_lingua['diferenca'] = 100 * (tipo_lingua['Espanhol'] - tipo_lingua['Inglês']) / tipo_lingua['Espanhol']\n",
        "\n",
        "# Plotar o gráfico de barras horizontais\n",
        "plt.figure(figsize=(10, 6))\n",
        "graf34 = tipo_lingua.plot.barh()\n",
        "\n",
        "# Adicionar os valores da coluna 'diferenca' no gráfico\n",
        "for i, v in enumerate(tipo_lingua['diferenca']):\n",
        "    graf34.text(v+200_000, i+0.17, f'Diferença: {v:.2f}%', color='black', fontsize=10, va='center')\n",
        "\n",
        "#printando\n",
        "plt.title('Diferença entre lingua inglesa e espanhola nos estados')\n",
        "plt.xlabel('Quantidade')\n",
        "plt.ylabel('Estado')"
      ]
    },
    {
      "cell_type": "markdown",
      "metadata": {
        "id": "VAW-QufMCX06"
      },
      "source": [
        "Todos os estados da região centro-oeste apresentam uma preferencia de escolha de lingua estrangeira pela língua espanhola, porém os estados onde a diferença é maior são MT (divisa com país que fala a língua espanhola) e GO (não faz dívisa com país que fala língua espanhola)."
      ]
    },
    {
      "cell_type": "code",
      "source": [
        "import numpy as np\n",
        "from scipy.stats import chi2_contingency\n",
        "\n",
        "# # Tabela de frequência observada\n",
        "observada = np.array([[tipo_lingua['Inglês']['DF'], tipo_lingua['Espanhol']['DF']],\n",
        "                      [tipo_lingua['Inglês']['GO'], tipo_lingua['Espanhol']['GO']],\n",
        "                      [tipo_lingua['Inglês']['MS'], tipo_lingua['Espanhol']['MS']],\n",
        "                      [tipo_lingua['Inglês']['MT'], tipo_lingua['Espanhol']['MT']]])\n",
        "\n",
        "# Executar o teste de qui-quadrado de independência\n",
        "chi2, p, dof, expected = chi2_contingency(observada)\n",
        "\n",
        "# Imprimir os resultados\n",
        "print(f\"Qui-quadrado observado: {chi2}\")\n",
        "print(f\"Valor-p: {p}\")\n",
        "print(\"Tabela de frequência esperada:\")\n",
        "print(expected)\n",
        "print()\n",
        "\n",
        "# Defina o nível de significância (alfa)\n",
        "alfa = 0.05\n",
        "\n",
        "# Verifique se o valor p é menor que o nível de significância\n",
        "if p < alfa:\n",
        "    print(\"Há uma relação estatisticamente significativa entre a localização do estado e a escolha de idioma.\")\n",
        "else:\n",
        "    print(\"Não há evidência estatística de relação entre a localização do estado e a escolha de idioma.\")"
      ],
      "metadata": {
        "id": "cPs7d8OBoGJk"
      },
      "execution_count": null,
      "outputs": []
    },
    {
      "cell_type": "markdown",
      "source": [
        "Utilizando o teste qui-quadrado para verificar se o estado tem inflûencia na escolha da lingua no ENEM, podemos verificar se há ou não relevância estatística. O valor-p obtido é igual a 0.0, o que mostra que há influência do estado na escolha da língua."
      ],
      "metadata": {
        "id": "7IaVqZgqoVrr"
      }
    },
    {
      "cell_type": "markdown",
      "metadata": {
        "id": "IPYfu46S3qgC"
      },
      "source": [
        "## 2.4 Notas Gerais"
      ]
    },
    {
      "cell_type": "markdown",
      "metadata": {
        "id": "jfc8qxJFk31k"
      },
      "source": [
        "### 2.4.1 Como foi a distribuição de notas nos últimos cinco anos?\n",
        "\n",
        "*Não inclui nota de redação."
      ]
    },
    {
      "cell_type": "markdown",
      "metadata": {
        "id": "Vtin3DZDQMzD"
      },
      "source": [
        "\n",
        "O código cria um conjunto de seis gráficos de histograma em uma matriz de 2x3 para visualizar as notas gerais dos alunos nos anos de 2018 a 2022. Ele itera através desses anos, filtrando os dados correspondentes a cada ano. Em seguida, cria um DataFrame com as notas gerais e plota um histograma para cada ano nos subplots da matriz."
      ]
    },
    {
      "cell_type": "code",
      "execution_count": null,
      "metadata": {
        "id": "Q618GNlz1F20"
      },
      "outputs": [],
      "source": [
        "#nota geral nao inclui a redacao\n",
        "\n",
        "filtro_notageral = dados_tratados['NU_NOTA_GERAL'] > 0\n",
        "anos = [2018,2019,2020,2021,2022]\n",
        "fig, axes = plt.subplots(nrows=2, ncols=3,figsize=(20, 10))\n",
        "i = 0\n",
        "j = 0\n",
        "\n",
        "for ano in anos:\n",
        "    filtro2 = dados_tratados['NU_ANO'] == ano\n",
        "    amostra = pd.DataFrame(dados_tratados.loc[filtro_notageral & filtro2]['NU_NOTA_GERAL'])\n",
        "\n",
        "    amostra.rename(columns={'NU_NOTA_GERAL':ano}).plot(kind = 'hist', ax=axes[i,j],bins=100,range=(0,1000))\n",
        "    axes[i, j].set_xlabel('Notas')\n",
        "\n",
        "    if j <= 1 :\n",
        "        j = j+1\n",
        "    else:\n",
        "        j = 0\n",
        "        i = i+1\n",
        "  #printando"
      ]
    },
    {
      "cell_type": "markdown",
      "metadata": {
        "id": "A26dX91Y5yCE"
      },
      "source": [
        "Pelos gráficos acima conseguimos ver que tivemos uma mudança de patamar de notas gerais acima de 600 (sem incluir a nota de redação) de 2020 pra frente. O volume de notas boas caiu muito, o que dá uma primeira impressão de termos resultadores piores em períodos pandêmicos e pós-pandêmicos."
      ]
    },
    {
      "cell_type": "markdown",
      "metadata": {
        "id": "niSH75Yo5wuA"
      },
      "source": [
        "Vamos verificar se essas distribuições são normais ou não atravez do teste \"Shapiro-wilk\" de normalidade, porem a população é muito grande então para isso vamos usar a amostra definida anteriormente.\n",
        "\n",
        "* H0: Os dados são normalmente distribuídos.\n",
        "* H1: Os dados não são normalmente distribuídos.\n",
        "\n",
        "Se o p-valor for menor que o nível de significancia determinado (0,05) rejeita-se H0."
      ]
    },
    {
      "cell_type": "code",
      "execution_count": null,
      "metadata": {
        "id": "uM6JQXRS5zRo"
      },
      "outputs": [],
      "source": [
        "filtro_notageral = dados_amostra['NU_NOTA_GERAL'] > 0\n",
        "anos = [2018,2019,2020,2021,2022]\n",
        "i = 0\n",
        "j = 0\n",
        "\n",
        "# Crie subplots em várias linhas e duas colunas\n",
        "num_rows = len(anos)\n",
        "num_cols = 2\n",
        "fig, axes = plt.subplots(nrows=num_rows, ncols=num_cols, figsize=(15, 3 * num_rows))\n",
        "\n",
        "# Aplicar o teste de normalidade de Shapiro-Wilk e plotar histogramas e Q-Q plots\n",
        "for i, ano in enumerate(anos):\n",
        "    filtro2 = dados_amostra['NU_ANO'] == ano\n",
        "    amostra = pd.DataFrame(dados_amostra.loc[filtro_notageral & filtro2]['NU_NOTA_GERAL'])\n",
        "\n",
        "    # Plotar histograma\n",
        "    amostra.rename(columns={'NU_NOTA_GERAL': ano}).plot(kind='hist', ax=axes[i, 0], bins=100, range=(0,1000))\n",
        "    axes[i, 0].set_xlabel('Notas')\n",
        "    axes[i, 0].set_title(f'Histograma - Ano {ano}')\n",
        "\n",
        "    # Aplicar o teste de normalidade de Shapiro-Wilk\n",
        "    stat, p_valor = stats.shapiro(amostra['NU_NOTA_GERAL'])\n",
        "    axes[i, 0].set_xlabel(f'SW p-valor: {p_valor:.10f}')\n",
        "\n",
        "  # Plotar Q-Q plot\n",
        "    stats.probplot(amostra['NU_NOTA_GERAL'], dist=\"norm\", plot=axes[i, 1])\n",
        "    axes[i, 1].set_title(f'Q-Q Plot - Ano {ano}')\n",
        "\n",
        "plt.tight_layout()\n",
        "plt.show()  # Para exibir os histogramas e Q-Q plots em várias linhas\n"
      ]
    },
    {
      "cell_type": "markdown",
      "metadata": {
        "id": "PmOko7vz59Qy"
      },
      "source": [
        "A partir da analise dos gráficos e dos p-valores encontrados (todos abaixo de 0,05) atraves do teste \"Shapiro-Wilk\", podemos afirmar que as distribuições de notas não são normais em nenhum dos anos estudados."
      ]
    },
    {
      "cell_type": "markdown",
      "metadata": {
        "id": "gt_gFbnBlR6L"
      },
      "source": [
        "### 2.4.2 Distribuição de notas dos últimos cinco anos no formato Box Plot."
      ]
    },
    {
      "cell_type": "markdown",
      "metadata": {
        "id": "TMdXOGrBQ0xn"
      },
      "source": [
        "\n",
        "O código processa dados de notas de alunos tratados. Ele seleciona as colunas de 'NU_NOTA_GERAL' e 'NU_ANO' para alunos que atendem a um certo critério. Em seguida, usando a biblioteca gráfica Plotly, ele cria um gráfico de caixa (box plot) em que os anos estão no eixo x e as notas gerais, normalizadas por 4, estão no eixo y. O gráfico exibe a distribuição das notas gerais ao longo dos anos."
      ]
    },
    {
      "cell_type": "code",
      "execution_count": null,
      "metadata": {
        "id": "I7_0jxyG37GY"
      },
      "outputs": [],
      "source": [
        "# plotar grafico de linha da média das notas ao longo do tempo\n",
        "filtro_notageral = dados_tratados['NU_NOTA_GERAL'] > 0\n",
        "notas = dados_tratados.loc[filtro_notageral][['NU_NOTA_GERAL','NU_ANO']]\n",
        "fig = go.Figure()\n",
        "fig.add_trace(go.Box(\n",
        "    x = notas['NU_ANO'],\n",
        "    y = notas['NU_NOTA_GERAL']\n",
        "))\n",
        "\n",
        "#Adicionando elementos no grafico\n",
        "fig.update_layout(\n",
        "    title='Distribuição das Notas Gerais por Ano',\n",
        "    xaxis_title='Ano',\n",
        "    yaxis_title='Nota geral'\n",
        "\n",
        ")\n",
        "\n",
        "fig.update_traces(\n",
        "    boxmean=True,  # Adiciona a linha de média dentro da caixa\n",
        "    line_width=1.5,  # Espessura da linha dos box plots\n",
        ")"
      ]
    },
    {
      "cell_type": "markdown",
      "metadata": {
        "id": "kwlqJtsB52-6"
      },
      "source": [
        "Pelos bloxplots acima conseguimos ver que estamos com uma maior amplitude nas notas auferidas de 2020 para frente. As notas máximas e quartis superiores também se apresentam num valor acima do que vemos em 2019. A nota mínima também aumentou nesse período, contradizendo o que estavamos pensando ao ver o gráfico de cima."
      ]
    },
    {
      "cell_type": "markdown",
      "metadata": {
        "id": "vmrC0IOq6NBK"
      },
      "source": [
        "Como as notas não parecem ter variado muito, vamos aplicar um teste estatistico de diferença de médias para comprovar. Como a distribuição das notas não é normal podemos fazer o teste de Mann-Whitney dois a dois (2018 x 2019, 2019 x 2020, etc) ou podemos fazer o teste Kruskall-Wallis que compara três ou mais grupos.\n",
        "Vamos seguir com o teste Kruskall-Wallis:\n",
        "* H0: Não há diferença entre as medianas dos grupos.\n",
        "* Ha: Ao menos um dos grupos tem uma mediana diferente dos outros grupos.\n",
        "\n",
        "Se o p-valor for menor que o nível de significancia determinado (0,05) rejeita-se H0."
      ]
    },
    {
      "cell_type": "code",
      "execution_count": null,
      "metadata": {
        "id": "fNrvqWxy6O7z"
      },
      "outputs": [],
      "source": [
        "#separando as notas por ano\n",
        "notas2018 = notas[notas['NU_ANO']==2018]['NU_NOTA_GERAL']\n",
        "notas2019 = notas[notas['NU_ANO']==2019]['NU_NOTA_GERAL']\n",
        "notas2020 = notas[notas['NU_ANO']==2020]['NU_NOTA_GERAL']\n",
        "notas2021 = notas[notas['NU_ANO']==2021]['NU_NOTA_GERAL']\n",
        "notas2022 = notas[notas['NU_ANO']==2022]['NU_NOTA_GERAL']\n",
        "\n",
        "# Realize o teste de Kruskal-Wallis\n",
        "stat, p_valor = stats.kruskal(notas2018, notas2019, notas2020,notas2021,notas2022)\n",
        "print(f\"{p_valor:.{10}f}\")\n"
      ]
    },
    {
      "cell_type": "markdown",
      "metadata": {
        "id": "vZ4WJ-Wj6RxA"
      },
      "source": [
        "Como o p-valor encontrado foi menor que o nível de significancia, entendemos que ao menos uma das medias difere."
      ]
    },
    {
      "cell_type": "markdown",
      "metadata": {
        "id": "870HHf-pD_3m"
      },
      "source": [
        "\n",
        "### 2.4.3 As notas médias dos alunos de escolas públicas e privadas foram afetadas de forma semelhante pela pandemia?\n",
        "\n",
        "*Não inclui nota da redação.\n"
      ]
    },
    {
      "cell_type": "markdown",
      "metadata": {
        "id": "uYVh0306TEz7"
      },
      "source": [
        "O código seleciona informações relevantes de alunos, incluindo ano, tipo de escola, presença e nota geral. Ele calcula a média das notas gerais para alunos presentes em cada ano e tipo de escola. Em seguida, plota gráficos de linhas sobrepostas para mostrar a evolução da média das notas ao longo dos anos, separadas por tipos de escola."
      ]
    },
    {
      "cell_type": "code",
      "execution_count": null,
      "metadata": {
        "id": "yP1KinFHEA2C"
      },
      "outputs": [],
      "source": [
        "presentes = dados_tratados[['NU_ANO','TP_ESCOLA','TP_PRESENCA','NU_NOTA_GERAL']]\n",
        "presentes = presentes[presentes['TP_PRESENCA']==True].groupby(['NU_ANO','TP_ESCOLA']).agg({'NU_NOTA_GERAL': 'mean'})\n",
        "\n",
        "presentes.reset_index(inplace=True)"
      ]
    },
    {
      "cell_type": "code",
      "execution_count": null,
      "metadata": {
        "id": "NqP0Pa_HxbSN"
      },
      "outputs": [],
      "source": [
        "#PARA CADA TIPO DE ESCOLA PLOTAR A MEDIA AO LONGO DOS ANOS, TRES LINHAS UMA EM CIMA DA OUTRA\n",
        "# Criar uma lista de tipos de escola únicos\n",
        "tipos_escola = presentes['TP_ESCOLA'].unique()\n",
        "\n",
        "# Plotar os gráficos de linha sobrepostos para cada tipo de escola\n",
        "for tipo_escola in tipos_escola:\n",
        "    df_tipo_escola = presentes[presentes['TP_ESCOLA'] == tipo_escola]\n",
        "    plt.plot(df_tipo_escola['NU_ANO'], df_tipo_escola['NU_NOTA_GERAL'], label=f'Tipo Escola {tipo_escola}')\n",
        "\n",
        "plt.xticks(anos)\n",
        "plt.title('Média das Notas por Ano para Cada Tipo de Escola')\n",
        "plt.xlabel('Ano')\n",
        "plt.ylabel('Média das Notas')\n",
        "plt.legend(loc=0)\n",
        "plt.show()"
      ]
    },
    {
      "cell_type": "markdown",
      "metadata": {
        "id": "3CUQFUkG7-_m"
      },
      "source": [
        "A partir do gráfico vemos que, exceto no ano de 2018, os alunos de escola privada tem uma média de notas mais altas."
      ]
    },
    {
      "cell_type": "markdown",
      "metadata": {
        "id": "SWT1j8Al0h6Y"
      },
      "source": [
        "## 2.5 Notas de redação"
      ]
    },
    {
      "cell_type": "markdown",
      "metadata": {
        "id": "JL4u3lWhyb8c"
      },
      "source": [
        "### 2.5.1 Houve mudança significativa nas notas de redação nos útimos 5 anos?"
      ]
    },
    {
      "cell_type": "markdown",
      "metadata": {
        "id": "JQz06kmvRZpe"
      },
      "source": [
        "O código processa dados de notas de estudantes. Ele seleciona as colunas de 'NU_NOTA_REDACAO' e 'NU_ANO' de um DataFrame chamado 'dados_tratados' com base em um filtro. O código calcula a média e o desvio padrão das notas por ano e armazena esses cálculos em um novo DataFrame chamado 'media'. Em seguida, ele extrai a coluna de médias de notas ('NU_NOTA_REDACAO') desse DataFrame 'media' e a representa visualmente usando um gráfico de barras horizontais, onde cada barra representa um ano, a média das notas é o valor da barra, e a barra é acompanhada por barras de erro representando o desvio padrão das notas."
      ]
    },
    {
      "cell_type": "code",
      "execution_count": null,
      "metadata": {
        "id": "LP6_x4728w34"
      },
      "outputs": [],
      "source": [
        "filtro_redacao = dados_tratados['NU_NOTA_REDACAO'] > 0\n",
        "notas_redacao = dados_tratados.loc[filtro_redacao][['NU_NOTA_REDACAO','NU_ANO']]\n",
        "\n",
        "media_redacao = notas_redacao.groupby('NU_ANO').agg([np.mean, np.std])\n",
        "\n",
        "media_redacao2 = media_redacao['NU_NOTA_REDACAO']\n",
        "media_redacao2.rename(columns={'mean':'Média Notas'}).plot(kind = 'barh', xerr = 'std',legend=False)\n",
        "\n",
        "#printando\n",
        "plt.title('Média e desvio padrão das notas da redação por ano')\n",
        "plt.xlabel('Média das notas')\n",
        "plt.ylabel('Ano')"
      ]
    },
    {
      "cell_type": "markdown",
      "metadata": {
        "id": "HIqRRrxe0RmW"
      },
      "source": [
        "###  2.5.2 Correlação entre as notas de redação e as notas nas provas de Linguagens, Códigos e suas Tecnologias"
      ]
    },
    {
      "cell_type": "markdown",
      "metadata": {
        "id": "yhT1UJh5SfbN"
      },
      "source": [
        "O código calcula a correção entre as notas da prova de linguagens e código e as notas da redação dos participantes. A correlação é retornada como um valor entre zero e um que expressao o nível de correlação."
      ]
    },
    {
      "cell_type": "code",
      "execution_count": null,
      "metadata": {
        "id": "M7UaupS64LOI"
      },
      "outputs": [],
      "source": [
        "#plotar scatterplot notas LC (linguagens e codigos) x notas redaçaão (hipotese, quem vai bem em portugues vai bem em redação)\n",
        "notas_correlacao_LC = dados_tratados.loc[filtro_notageral & filtro_redacao][['NU_NOTA_LC','NU_NOTA_REDACAO']]\n",
        "notas_correlacao_LC.corr()\n"
      ]
    },
    {
      "cell_type": "code",
      "execution_count": null,
      "metadata": {
        "id": "qTVV9ebu6ZvY"
      },
      "outputs": [],
      "source": [
        "import matplotlib.pyplot as plt\n",
        "\n",
        "# Calcule a correlação entre as notas\n",
        "correlacao = notas_correlacao_LC.corr().iloc[0, 1]\n",
        "\n",
        "# Crie o scatterplot hexagonal\n",
        "plt.figure(figsize=(8, 6))\n",
        "plt.hexbin(\n",
        "    x=notas_correlacao_LC['NU_NOTA_LC'],\n",
        "    y=notas_correlacao_LC['NU_NOTA_REDACAO'],\n",
        "    gridsize=20,  # Tamanho da grade hexagonal (ajuste conforme necessário)\n",
        "    cmap='viridis',  # Escolha uma paleta de cores\n",
        "    mincnt=1,  # Contagem mínima de pontos para colorir um hexágono (ajuste conforme necessário)\n",
        ")\n",
        "plt.colorbar(label='Contagem de Alunos')  # Adicione uma barra de cores com a etiqueta\n",
        "\n",
        "# Defina os rótulos dos eixos e o título\n",
        "plt.xlabel('Notas de LC (Linguagens e Códigos)')\n",
        "plt.ylabel('Notas de Redação')\n",
        "plt.title(f'Correlação: {correlacao:.2f}')\n",
        "\n",
        "# Exibir o gráfico\n",
        "plt.show()"
      ]
    },
    {
      "cell_type": "markdown",
      "metadata": {
        "id": "V4trseWQ3wsp"
      },
      "source": [
        "### 2.5.3 Correlação entre as notas nas provas objetivas e as notas de redação\n"
      ]
    },
    {
      "cell_type": "markdown",
      "metadata": {
        "id": "zeMEk81_SdFg"
      },
      "source": [
        "O código calcula a correção entre as notas gerais e as notas da redação dos participantes. A correlação é retornada como um valor entre zero e um que expressao o nível de correlação."
      ]
    },
    {
      "cell_type": "code",
      "execution_count": null,
      "metadata": {
        "id": "A2rl4xCG4Gco"
      },
      "outputs": [],
      "source": [
        "#plotar scatterplot notas gerais x notas redaçaão\n",
        "\n",
        "notas_correlacao = dados_tratados.loc[filtro_notageral & filtro_redacao][['NU_NOTA_GERAL','NU_NOTA_REDACAO']]\n",
        "notas_correlacao['NU_NOTA_GERAL'] = notas_correlacao['NU_NOTA_GERAL']\n",
        "\n",
        "notas_correlacao.corr()\n"
      ]
    },
    {
      "cell_type": "code",
      "execution_count": null,
      "metadata": {
        "id": "H0sXpW4F6how"
      },
      "outputs": [],
      "source": [
        "# Calcule a correlação entre as notas\n",
        "correlacao_geral = notas_correlacao.corr().iloc[0, 1]\n",
        "\n",
        "# Crie o scatterplot hexagonal\n",
        "plt.figure(figsize=(8, 6))\n",
        "plt.hexbin(\n",
        "    x=notas_correlacao['NU_NOTA_GERAL'],\n",
        "    y=notas_correlacao_LC['NU_NOTA_REDACAO'],\n",
        "    gridsize=20,  # Tamanho da grade hexagonal (ajuste conforme necessário)\n",
        "    cmap='viridis',  # Escolha uma paleta de cores\n",
        "    mincnt=1,  # Contagem mínima de pontos para colorir um hexágono (ajuste conforme necessário)\n",
        ")\n",
        "plt.colorbar(label='Contagem de Alunos')  # Adicione uma barra de cores com a etiqueta\n",
        "\n",
        "# Defina os rótulos dos eixos e o título\n",
        "plt.xlabel('Notas gerais')\n",
        "plt.ylabel('Notas de Redação')\n",
        "plt.title(f'Correlação: {correlacao_geral:.2f}')\n",
        "\n",
        "# Exibir o gráfico\n",
        "plt.show()"
      ]
    },
    {
      "cell_type": "markdown",
      "metadata": {
        "id": "BsOo8dIHpFwW"
      },
      "source": [
        "### 2.5.4 Distribuição das notas de redação"
      ]
    },
    {
      "cell_type": "markdown",
      "metadata": {
        "id": "eLDiOIlXSBwL"
      },
      "source": [
        "O código processa dados de notas de alunos tratados. Ele seleciona as colunas de 'NU_NOTA_REDACAO' e 'NU_ANO' para alunos que atendem a um certo critério. Em seguida, usando a biblioteca gráfica Plotly, ele cria um gráfico de caixa (box plot) em que os anos estão no eixo x e as notas gerais, normalizadas por 4, estão no eixo y. O gráfico exibe a distribuição das notas gerais ao longo dos anos."
      ]
    },
    {
      "cell_type": "code",
      "execution_count": null,
      "metadata": {
        "id": "n48QxT2v4Drs"
      },
      "outputs": [],
      "source": [
        "# plotar grafico de linha da média das notas ao longo do tempo\n",
        "\n",
        "fig = go.Figure()\n",
        "fig.add_trace(go.Box(\n",
        "    x = notas_redacao['NU_ANO'],\n",
        "    y = notas_redacao['NU_NOTA_REDACAO']\n",
        "))\n",
        "\n",
        "#Adicionando elementos no grafico\n",
        "fig.update_layout(\n",
        "    title='Distribuição das Notas das redações por Ano',\n",
        "    xaxis_title='Ano',\n",
        "    yaxis_title='Nota Redação'\n",
        "\n",
        ")\n",
        "\n",
        "fig.update_traces(\n",
        "    boxmean=True,  # Adiciona a linha de média dentro da caixa\n",
        "    line_width=1.5,  # Espessura da linha dos box plots\n",
        ")"
      ]
    },
    {
      "cell_type": "markdown",
      "source": [
        "Teste de Hipótese:\n",
        "\n",
        "Vamos executar o Teste de Wilcoxon ou Mann-Whitney, em que podemos comparar a média ou a mediana de duas amostras independentes, sem fazer suposições sobre a distribuição das amostras.\n",
        "\n",
        "Fazendo a comparação das médias:\n",
        "\n",
        "▪ H0: 𝑀𝐴 = 𝑀𝐵 ou (𝑀𝐴 - 𝑀𝐵) = 0\n",
        "\n",
        "▪ H1: 𝑀𝐴 ≠ 𝑀𝐵 ou (𝑀𝐴 - 𝑀𝐵) ≠ 0\n",
        "\n",
        "Se o p-value é < 0,05 rejeitamos a hipótese nula."
      ],
      "metadata": {
        "id": "IRW-qaHib-7H"
      }
    },
    {
      "cell_type": "code",
      "source": [
        "#filtrando os dataframes para ter apenas os dados dos respectivos anos\n",
        "redacao_2019 = dados_tratados.loc[dados_tratados['NU_ANO'] == 2019]\n",
        "redacao_2020 = dados_tratados.loc[dados_tratados['NU_ANO'] == 2020]\n",
        "\n",
        "#filtrando para manter apenas a coluna de notas de redacao\n",
        "redacao_2019 = redacao_2019['NU_NOTA_REDACAO']\n",
        "redacao_2020 = redacao_2020['NU_NOTA_REDACAO']\n",
        "\n",
        "#tirando o index\n",
        "redacao_2019 = redacao_2019.reset_index(drop = True)\n",
        "redacao_2020 = redacao_2020.reset_index(drop = True)\n",
        "\n",
        "import scipy.stats as stats\n",
        "stats.mannwhitneyu(redacao_2019,redacao_2020, alternative = 'two-sided')"
      ],
      "metadata": {
        "id": "JKZ4fJaIb9w-"
      },
      "execution_count": null,
      "outputs": []
    },
    {
      "cell_type": "markdown",
      "source": [
        " Resultado: p < 0,05.\n",
        "\n",
        " A hipótese H0 é rejeitada e portanto há evidências significativas de que a nota média entre os anos de 2019 e 2020 variou."
      ],
      "metadata": {
        "id": "DMp2ZkXZcKux"
      }
    },
    {
      "cell_type": "markdown",
      "metadata": {
        "id": "DPD8GXVJngZU"
      },
      "source": [
        "### 2.5.5 Houve mais dificuldade com redação durante a pandemia?"
      ]
    },
    {
      "cell_type": "markdown",
      "metadata": {
        "id": "DLAt4Gl5Sqg6"
      },
      "source": [
        "O código une dados de tipos de redação e seus status com dados tratados. Ele calcula a proporção de cada status de redação para cada ano, transforma os dados em um formato tabular e cria um gráfico de barras. O gráfico ilustra a relação entre os status das redações e os anos."
      ]
    },
    {
      "cell_type": "code",
      "execution_count": null,
      "metadata": {
        "id": "e6zlFrfBZxdC"
      },
      "outputs": [],
      "source": [
        "#Criando variável tipo de redaçao\n",
        "#plotar status redação geral (sem ser por ano, apenas tipos)\n",
        "tipo_redacao = dados_tratados.merge(dp_redacao.reindex(), on = 'TP_STATUS_REDACAO', how = 'left')\n",
        "tipo_redacao = tipo_redacao[['NU_ANO' , 'Status Redacao' ]].value_counts(normalize=True) * 100\n",
        "tipo_redacao = tipo_redacao.unstack()"
      ]
    },
    {
      "cell_type": "code",
      "execution_count": null,
      "metadata": {
        "id": "u798BWxN_c9-"
      },
      "outputs": [],
      "source": [
        "# Plotar o gráfico de barras\n",
        "ax = tipo_redacao.plot.bar()\n",
        "\n",
        "# Personalizar a legenda\n",
        "legend_labels = tipo_redacao.columns  # Labels da legenda (Status Redacao)\n",
        "\n",
        "# Posicionar a legenda abaixo do gráfico, centralizado\n",
        "ax.legend(legend_labels, loc='upper center', bbox_to_anchor=(0.5, -0.15), ncol=len(legend_labels))\n",
        "\n",
        "# Resto do código de personalização\n",
        "plt.title('Relação dos status das redações por ano')\n",
        "plt.xlabel('Ano')\n",
        "plt.ylabel('Proporção (%)')\n",
        "plt.xticks(rotation=0)\n",
        "plt.tight_layout()\n",
        "\n",
        "# Mostrar o gráfico\n",
        "plt.show()"
      ]
    },
    {
      "cell_type": "markdown",
      "metadata": {
        "id": "Qc7-9OFAsUTw"
      },
      "source": [
        "## 2.6 Alunos do terceiro ano"
      ]
    },
    {
      "cell_type": "markdown",
      "metadata": {
        "id": "lPooCXxovuev"
      },
      "source": [
        "### 2.6.1 Como as notas de redação dos terceiro anistas foi impactada pela pandemia?"
      ]
    },
    {
      "cell_type": "markdown",
      "metadata": {
        "id": "FyhEk1SATWNw"
      },
      "source": [
        "O código realiza uma análise das notas de redação entre estudantes do terceiro ano do ensino médio. Ele filtra os dados para terceiro-anistas, calcula a média e o desvio padrão das notas de redação agrupadas por ano. Em seguida, renomeia colunas e compara essas médias com uma média geral de notas de redação. Um gráfico é gerado para exibir as médias das notas dos terceiro-anistas e a média geral ao longo dos anos. Intervalos de confiança são sombreados para indicar a variabilidade das médias. O objetivo é analisar como as notas de redação dos terceiro-anistas se comparam com a média geral em diferentes anos."
      ]
    },
    {
      "cell_type": "code",
      "execution_count": null,
      "metadata": {
        "id": "EmiEfI7s6bZe"
      },
      "outputs": [],
      "source": [
        "#Entre os Terceiro Anistas:\n",
        "filtro_terceiroanista = dados_tratados['TP_ST_CONCLUSAO'] == 2\n",
        "terc_sit_EM = dados_tratados.loc[filtro_terceiroanista & filtro_redacao][['NU_NOTA_REDACAO','NU_ANO']]\n",
        "media_terceiroanista = terc_sit_EM.groupby('NU_ANO').agg([np.mean, np.std])\n",
        "media_terceiroanista2 = media_terceiroanista['NU_NOTA_REDACAO']\n",
        "#renomeando colunas\n",
        "media_terceiroanista2 = media_terceiroanista2.rename(columns={'mean':'mean 3a','std':'std 3a'})\n",
        "media_redacao_compara = media_redacao2.rename(columns={'mean':'mean geral','std':'std geral'})\n",
        "\n",
        "grafico_redacao = pd.concat([media_terceiroanista2,media_redacao_compara], axis = 1).reset_index()\n",
        "grafico_redacao.plot(x = 'NU_ANO',y=[\"mean 3a\", \"mean geral\"],  style='.-' , figsize = (15,8), xticks =grafico_redacao['NU_ANO'])\n",
        "y1 = np.array(grafico_redacao['mean 3a']) - np.array(grafico_redacao['std 3a'])\n",
        "y2 = np.array(grafico_redacao['mean 3a']) + np.array(grafico_redacao['std 3a'])\n",
        "plt.fill_between(grafico_redacao['NU_ANO'],y1,y2,alpha=.1)\n",
        "y1 = np.array(grafico_redacao['mean geral']) - np.array(grafico_redacao['std geral'])\n",
        "y2 = np.array(grafico_redacao['mean geral']) + np.array(grafico_redacao['std geral'])\n",
        "plt.fill_between(grafico_redacao['NU_ANO'],y1,y2,alpha=.1)\n",
        "\n",
        "\n"
      ]
    },
    {
      "cell_type": "markdown",
      "metadata": {
        "id": "AgKiOVLzyM8A"
      },
      "source": []
    },
    {
      "cell_type": "markdown",
      "metadata": {
        "id": "Wm4wWwuQEBe6"
      },
      "source": [
        "### 2.6.2 Houve alguma mudança significativa na participação de terceiro anistas diante da pandemia?"
      ]
    },
    {
      "cell_type": "markdown",
      "metadata": {
        "id": "H93_XTDkTL8_"
      },
      "source": [
        "\n",
        "O código combina dados de inscrição com informações de conclusão do Ensino Médio. Ele cria um gráfico de barras empilhadas para representar a distribuição das situações de conclusão do Ensino Médio ao longo dos anos de inscrição."
      ]
    },
    {
      "cell_type": "code",
      "execution_count": null,
      "metadata": {
        "id": "CTh6iNXiEC63"
      },
      "outputs": [],
      "source": [
        "#Código\n",
        "inscritos_sit_EM = dados_tratados.merge(dp_conclusao.reindex(), on = 'TP_ST_CONCLUSAO', how = 'left')\n",
        "inscritos_sit_EM = inscritos_sit_EM[['NU_ANO','Situação do Ensino Médio']].value_counts()\n",
        "inscritos_sit_EM.unstack().plot.bar(stacked=True, figsize = (15,8)).legend(loc=0)\n",
        "\n",
        "#printando\n",
        "plt.title('Situação do ensino médio por ano')\n",
        "plt.xlabel('Ano')\n",
        "plt.ylabel('Quantidade')\n",
        "plt.xticks(rotation=0)\n",
        "\n",
        "\n",
        "#presente = pd.DataFrame(dados_tratados[dados_tratados['TP_PRESENCA'] == True]['NU_ANO'].value_counts())\n",
        "#alunos = pd.concat([inscritos.rename(columns = {'NU_ANO':'Inscritos'}),presente.rename(columns = {'NU_ANO':'Presentes'})],axis = 1)\n",
        "#alunos.sort_index().plot(kind='bar')"
      ]
    },
    {
      "cell_type": "markdown",
      "metadata": {
        "id": "je4zjgudy8Mt"
      },
      "source": [
        "A participação de pessoas que já concluíram o ensino médio no ENEM diminuiu significativamente após 2020."
      ]
    },
    {
      "cell_type": "markdown",
      "metadata": {
        "id": "yimv3idhIk_m"
      },
      "source": [
        "---\n",
        "# 3. Conclusão"
      ]
    },
    {
      "cell_type": "markdown",
      "metadata": {
        "id": "cKwsZUdi1D8P"
      },
      "source": [
        "## 3.1 Dificuldades e aprendizados\n",
        "\n",
        "\n",
        "*   Pouco tempo para decisão do dataset\n",
        "*   Dificuldade em trabalhar com dataset muito grande (garantir a reprodutibilidade)\n",
        "* Dificuldade em trabalhar num ambiente colaborativo e versionado.\n",
        "* Identificar os testes de hipíotese adequados para cada caso\n",
        "\n"
      ]
    },
    {
      "cell_type": "markdown",
      "metadata": {
        "id": "AO1Lqyd01VzQ"
      },
      "source": [
        "## 3.2 Pontos Positivos\n",
        "\n",
        "\n",
        "*   Equipe multidisciplinar\n",
        "*   Troca de experiências\n",
        "\n"
      ]
    }
  ],
  "metadata": {
    "colab": {
      "collapsed_sections": [
        "Djao8JXD0OPY",
        "B4aL0QiQv_JX"
      ],
      "provenance": [],
      "toc_visible": true
    },
    "kernelspec": {
      "display_name": "Python 3",
      "name": "python3"
    },
    "language_info": {
      "name": "python"
    }
  },
  "nbformat": 4,
  "nbformat_minor": 0
}