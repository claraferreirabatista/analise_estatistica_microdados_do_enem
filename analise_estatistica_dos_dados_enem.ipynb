{
 "cells": [
  {
   "cell_type": "markdown",
   "metadata": {},
   "source": [
    "# Análise exploratória de dados"
   ]
  },
  {
   "cell_type": "markdown",
   "metadata": {},
   "source": [
    "**Abaixo se encontra a importação das bibliotecas e carregamento dos dados**\n",
    "\n",
    "Anteriormente, a limpeza dos dados foi realizada, resultando no arquivo 'ENEM_CO_TRATADO.parquet'.\n",
    "Este arquivo será o foco de nossas análises.\n"
   ]
  },
  {
   "cell_type": "code",
   "execution_count": 1,
   "metadata": {},
   "outputs": [
    {
     "name": "stderr",
     "output_type": "stream",
     "text": [
      "/usr/lib/python3/dist-packages/scipy/__init__.py:146: UserWarning: A NumPy version >=1.17.3 and <1.25.0 is required for this version of SciPy (detected version 1.25.2\n",
      "  warnings.warn(f\"A NumPy version >={np_minversion} and <{np_maxversion}\"\n"
     ]
    }
   ],
   "source": [
    "import pandas as pd\n",
    "import matplotlib.pyplot as plt\n",
    "import re\n",
    "import numpy as np\n",
    "import scipy.stats as stats\n",
    "import seaborn as sns\n",
    "import plotly.graph_objects as go\n",
    "import plotly.express as px\n",
    "\n",
    "dados_tratados = pd.read_parquet('ENEM_CO_TRATADO.parquet')"
   ]
  },
  {
   "cell_type": "markdown",
   "metadata": {},
   "source": [
    "**Tabelas \"de-para\"** são estruturas fundamentais em análise de dados e processamento de informações. Elas permitem a criação de associações entre valores originais e valores correspondentes, simplificando a interpretação e manipulação de dados complexos. Com funções específicas para cada tabela, como idade, cor/raça, nacionalidade, situação de conclusão, ano de conclusão e status de redação, podemos modularizar a criação dessas tabelas, tornando o código mais organizado e fácil de manter. Assim, o arquivo central pode importar essas funções prontas para uso, economizando tempo e facilitando a manipulação de dados em projetos analíticos. Essas tabelas são uma ferramenta valiosa para simplificar dados complexos e obter insights significativos de forma eficiente."
   ]
  },
  {
   "cell_type": "code",
   "execution_count": 2,
   "metadata": {},
   "outputs": [],
   "source": [
    "from tabelas_de_para import (\n",
    "    criar_tabela_de_para_idades,\n",
    "    criar_tabela_de_para_cor_raca,\n",
    "    criar_tabela_de_para_nacionalidade,\n",
    "    criar_tabela_de_para_situacao_conclusao,\n",
    "    criar_tabela_de_para_ano_conclusao,\n",
    "    criar_tabela_de_para_status_redacao\n",
    ")\n"
   ]
  },
  {
   "cell_type": "code",
   "execution_count": 3,
   "metadata": {},
   "outputs": [],
   "source": [
    "tabela_idades = criar_tabela_de_para_idades()\n",
    "tabela_cor_raca = criar_tabela_de_para_cor_raca()\n",
    "tabela_nacionalidade = criar_tabela_de_para_nacionalidade()\n",
    "tabela_situacao_conclusao = criar_tabela_de_para_situacao_conclusao()\n",
    "tabela_ano_conclusao = criar_tabela_de_para_ano_conclusao()\n",
    "tabela_status_redacao = criar_tabela_de_para_status_redacao()"
   ]
  },
  {
   "cell_type": "code",
   "execution_count": null,
   "metadata": {},
   "outputs": [],
   "source": []
  }
 ],
 "metadata": {
  "kernelspec": {
   "display_name": "Python 3",
   "language": "python",
   "name": "python3"
  },
  "language_info": {
   "codemirror_mode": {
    "name": "ipython",
    "version": 3
   },
   "file_extension": ".py",
   "mimetype": "text/x-python",
   "name": "python",
   "nbconvert_exporter": "python",
   "pygments_lexer": "ipython3",
   "version": "3.10.12"
  },
  "orig_nbformat": 4
 },
 "nbformat": 4,
 "nbformat_minor": 2
}
